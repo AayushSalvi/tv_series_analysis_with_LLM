{
 "cells": [
  {
   "cell_type": "code",
   "execution_count": 135,
   "metadata": {},
   "outputs": [],
   "source": [
    "from transformers import pipeline\n",
    "from nltk import sent_tokenize\n",
    "import nltk\n",
    "import torch\n",
    "from glob import glob\n",
    "import pandas as pd\n",
    "import numpy as np"
   ]
  },
  {
   "cell_type": "code",
   "execution_count": 136,
   "metadata": {},
   "outputs": [],
   "source": [
    "import os"
   ]
  },
  {
   "cell_type": "code",
   "execution_count": 137,
   "metadata": {},
   "outputs": [
    {
     "name": "stderr",
     "output_type": "stream",
     "text": [
      "[nltk_data] Downloading package punkt to\n",
      "[nltk_data]     C:\\Users\\salvi\\AppData\\Roaming\\nltk_data...\n",
      "[nltk_data]   Package punkt is already up-to-date!\n"
     ]
    },
    {
     "data": {
      "text/plain": [
       "True"
      ]
     },
     "execution_count": 137,
     "metadata": {},
     "output_type": "execute_result"
    }
   ],
   "source": [
    "nltk.download('punkt')"
   ]
  },
  {
   "cell_type": "markdown",
   "metadata": {},
   "source": [
    "# Load Model"
   ]
  },
  {
   "cell_type": "code",
   "execution_count": 138,
   "metadata": {},
   "outputs": [],
   "source": [
    "model_name = \"facebook/bart-large-mnli\"\n",
    "device = 0 if torch.cuda.is_available() else 'cpu'"
   ]
  },
  {
   "cell_type": "code",
   "execution_count": 139,
   "metadata": {},
   "outputs": [
    {
     "data": {
      "text/plain": [
       "0"
      ]
     },
     "execution_count": 139,
     "metadata": {},
     "output_type": "execute_result"
    }
   ],
   "source": [
    "device"
   ]
  },
  {
   "cell_type": "code",
   "execution_count": 140,
   "metadata": {},
   "outputs": [],
   "source": [
    "def load_model(device):\n",
    "    theme_classifier = pipeline(\n",
    "        \"zero-shot-classification\",\n",
    "        model= model_name,\n",
    "        device= device\n",
    "    )\n",
    "\n",
    "    return theme_classifier\n"
   ]
  },
  {
   "cell_type": "code",
   "execution_count": 141,
   "metadata": {},
   "outputs": [
    {
     "name": "stderr",
     "output_type": "stream",
     "text": [
      "c:\\Users\\salvi\\anaconda3\\lib\\site-packages\\transformers\\tokenization_utils_base.py:1601: FutureWarning: `clean_up_tokenization_spaces` was not set. It will be set to `True` by default. This behavior will be depracted in transformers v4.45, and will be then set to `False` by default. For more details check this issue: https://github.com/huggingface/transformers/issues/31884\n",
      "  warnings.warn(\n"
     ]
    }
   ],
   "source": [
    "theme_classifier = load_model(device)"
   ]
  },
  {
   "cell_type": "code",
   "execution_count": 142,
   "metadata": {},
   "outputs": [],
   "source": [
    "theme_list = [\"Adventure\", \"Friendship\", \"Dreams\", \"Freedom\", \"Loyalty\", \"Courage\", \"Justice\", \"Ambition\", \"Sacrifice\", \"Perseverance\", \"Family\", \"Heroism\", \"Rivalry\", \"Exploration\", \"Redemption\", \"Unity\", \"Hope\", \"Determination\", \"Survival\", \"Betrayal\"]"
   ]
  },
  {
   "cell_type": "markdown",
   "metadata": {},
   "source": [
    "# Load Dataset"
   ]
  },
  {
   "cell_type": "code",
   "execution_count": 143,
   "metadata": {},
   "outputs": [
    {
     "data": {
      "text/plain": [
       "'../data/subtitles\\\\999.ass'"
      ]
     },
     "execution_count": 143,
     "metadata": {},
     "output_type": "execute_result"
    }
   ],
   "source": [
    "files = glob('../data/subtitles/*.ass')\n",
    "files[-1]"
   ]
  },
  {
   "cell_type": "code",
   "execution_count": 144,
   "metadata": {},
   "outputs": [],
   "source": [
    "files_sorted = sorted(files, key=lambda x: int(os.path.splitext(os.path.basename(x))[0]))"
   ]
  },
  {
   "cell_type": "code",
   "execution_count": 145,
   "metadata": {},
   "outputs": [
    {
     "data": {
      "text/plain": [
       "'../data/subtitles\\\\1112.ass'"
      ]
     },
     "execution_count": 145,
     "metadata": {},
     "output_type": "execute_result"
    }
   ],
   "source": [
    "files_sorted[-1]"
   ]
  },
  {
   "cell_type": "code",
   "execution_count": 146,
   "metadata": {},
   "outputs": [],
   "source": [
    "with open(files[0],'r') as files_sorted:\n",
    "    lines = files_sorted.readlines()\n",
    "    lines = lines[27:] #Meta data in subs\n",
    "    lines =  [ \",\".join(line.split(',')[9:])  for line in lines ] # 9 because first 9 columns are meta data"
   ]
  },
  {
   "cell_type": "code",
   "execution_count": 147,
   "metadata": {},
   "outputs": [],
   "source": [
    "lines = [ line.replace('\\\\N',' ') for line in lines]\n"
   ]
  },
  {
   "cell_type": "code",
   "execution_count": 148,
   "metadata": {},
   "outputs": [
    {
     "data": {
      "text/plain": [
       "\"Gold Roger, the King of the Pirates,\\n attained everything this world has to offer.\\n The words he uttered just before his death drove people to the seas.\\n My treasure? If you want it, you can have it!\\n Find it! I left everything this world has to offer there!\\n And so men head for the Grand Line in pursuit of their dreams!\\n The world has truly entered a Great Pirate Era!\\n We're going to gather up all our dreams\\n and set out in search of something to find\\n ONE PIECE!\\n\""
      ]
     },
     "execution_count": 148,
     "metadata": {},
     "output_type": "execute_result"
    }
   ],
   "source": [
    "\" \".join(lines[:10])"
   ]
  },
  {
   "cell_type": "code",
   "execution_count": 149,
   "metadata": {},
   "outputs": [
    {
     "data": {
      "text/plain": [
       "999"
      ]
     },
     "execution_count": 149,
     "metadata": {},
     "output_type": "execute_result"
    }
   ],
   "source": [
    "#episode number\n",
    "int(files[-1].split('\\\\')[-1].split('.')[0].strip())"
   ]
  },
  {
   "cell_type": "code",
   "execution_count": 150,
   "metadata": {},
   "outputs": [],
   "source": [
    "def load_subtitles_dataset(dataset_path):\n",
    "    subtitles_paths = glob(dataset_path+'/*.ass')\n",
    "    sub_sorted = sorted(subtitles_paths, key=lambda x: int(os.path.splitext(os.path.basename(x))[0]))\n",
    "    scripts=[]\n",
    "    episode_num=[]\n",
    "\n",
    "    for path in sub_sorted:\n",
    "\n",
    "        #Read Lines\n",
    "        with open(path,'r') as file:\n",
    "            lines = file.readlines()\n",
    "            lines = lines[27:]\n",
    "            lines =  [ \",\".join(line.split(',')[9:])  for line in lines ]\n",
    "        \n",
    "        lines = [ line.replace('\\\\N',' ') for line in lines]\n",
    "        script = \" \".join(lines)\n",
    "\n",
    "        episode = int(path.split('\\\\')[-1].split('.')[0].strip())\n",
    "\n",
    "        scripts.append(script)\n",
    "        episode_num.append(episode)\n",
    "\n",
    "    df = pd.DataFrame.from_dict({\"episode\":episode_num, \"script\":scripts })\n",
    "    return df"
   ]
  },
  {
   "cell_type": "code",
   "execution_count": 151,
   "metadata": {},
   "outputs": [],
   "source": [
    "dataset_path = \"../data/subtitles\"\n",
    "df = load_subtitles_dataset(dataset_path)"
   ]
  },
  {
   "cell_type": "code",
   "execution_count": 152,
   "metadata": {},
   "outputs": [
    {
     "data": {
      "text/html": [
       "<div>\n",
       "<style scoped>\n",
       "    .dataframe tbody tr th:only-of-type {\n",
       "        vertical-align: middle;\n",
       "    }\n",
       "\n",
       "    .dataframe tbody tr th {\n",
       "        vertical-align: top;\n",
       "    }\n",
       "\n",
       "    .dataframe thead th {\n",
       "        text-align: right;\n",
       "    }\n",
       "</style>\n",
       "<table border=\"1\" class=\"dataframe\">\n",
       "  <thead>\n",
       "    <tr style=\"text-align: right;\">\n",
       "      <th></th>\n",
       "      <th>episode</th>\n",
       "      <th>script</th>\n",
       "    </tr>\n",
       "  </thead>\n",
       "  <tbody>\n",
       "    <tr>\n",
       "      <th>0</th>\n",
       "      <td>1</td>\n",
       "      <td>Gold Roger, the King of the Pirates,\\n attaine...</td>\n",
       "    </tr>\n",
       "    <tr>\n",
       "      <th>1</th>\n",
       "      <td>2</td>\n",
       "      <td>Gold Roger, the King of the Pirates,\\n attaine...</td>\n",
       "    </tr>\n",
       "    <tr>\n",
       "      <th>2</th>\n",
       "      <td>3</td>\n",
       "      <td>Gold Roger, the King of the Pirates,\\n attaine...</td>\n",
       "    </tr>\n",
       "    <tr>\n",
       "      <th>3</th>\n",
       "      <td>4</td>\n",
       "      <td>Gold Roger, the King of the Pirates,\\n attaine...</td>\n",
       "    </tr>\n",
       "    <tr>\n",
       "      <th>4</th>\n",
       "      <td>5</td>\n",
       "      <td>Gold Roger, the King of the Pirates,\\n attaine...</td>\n",
       "    </tr>\n",
       "    <tr>\n",
       "      <th>5</th>\n",
       "      <td>6</td>\n",
       "      <td>Gold Roger, the King of the Pirates,\\n attaine...</td>\n",
       "    </tr>\n",
       "    <tr>\n",
       "      <th>6</th>\n",
       "      <td>7</td>\n",
       "      <td>Gold Roger, the King of the Pirates,\\n attaine...</td>\n",
       "    </tr>\n",
       "    <tr>\n",
       "      <th>7</th>\n",
       "      <td>8</td>\n",
       "      <td>Gold Roger, the King of the Pirates,\\n attaine...</td>\n",
       "    </tr>\n",
       "    <tr>\n",
       "      <th>8</th>\n",
       "      <td>9</td>\n",
       "      <td>Gold Roger, the King of the Pirates,\\n attaine...</td>\n",
       "    </tr>\n",
       "    <tr>\n",
       "      <th>9</th>\n",
       "      <td>10</td>\n",
       "      <td>Gold Roger, the King of the Pirates,\\n attaine...</td>\n",
       "    </tr>\n",
       "  </tbody>\n",
       "</table>\n",
       "</div>"
      ],
      "text/plain": [
       "   episode                                             script\n",
       "0        1  Gold Roger, the King of the Pirates,\\n attaine...\n",
       "1        2  Gold Roger, the King of the Pirates,\\n attaine...\n",
       "2        3  Gold Roger, the King of the Pirates,\\n attaine...\n",
       "3        4  Gold Roger, the King of the Pirates,\\n attaine...\n",
       "4        5  Gold Roger, the King of the Pirates,\\n attaine...\n",
       "5        6  Gold Roger, the King of the Pirates,\\n attaine...\n",
       "6        7  Gold Roger, the King of the Pirates,\\n attaine...\n",
       "7        8  Gold Roger, the King of the Pirates,\\n attaine...\n",
       "8        9  Gold Roger, the King of the Pirates,\\n attaine...\n",
       "9       10  Gold Roger, the King of the Pirates,\\n attaine..."
      ]
     },
     "execution_count": 152,
     "metadata": {},
     "output_type": "execute_result"
    }
   ],
   "source": [
    "df.head(10)"
   ]
  },
  {
   "cell_type": "code",
   "execution_count": 153,
   "metadata": {},
   "outputs": [
    {
     "data": {
      "text/html": [
       "<div>\n",
       "<style scoped>\n",
       "    .dataframe tbody tr th:only-of-type {\n",
       "        vertical-align: middle;\n",
       "    }\n",
       "\n",
       "    .dataframe tbody tr th {\n",
       "        vertical-align: top;\n",
       "    }\n",
       "\n",
       "    .dataframe thead th {\n",
       "        text-align: right;\n",
       "    }\n",
       "</style>\n",
       "<table border=\"1\" class=\"dataframe\">\n",
       "  <thead>\n",
       "    <tr style=\"text-align: right;\">\n",
       "      <th></th>\n",
       "      <th>episode</th>\n",
       "      <th>script</th>\n",
       "    </tr>\n",
       "  </thead>\n",
       "  <tbody>\n",
       "    <tr>\n",
       "      <th>1010</th>\n",
       "      <td>1074</td>\n",
       "      <td>...</td>\n",
       "    </tr>\n",
       "    <tr>\n",
       "      <th>1011</th>\n",
       "      <td>1075</td>\n",
       "      <td>...</td>\n",
       "    </tr>\n",
       "    <tr>\n",
       "      <th>1012</th>\n",
       "      <td>1076</td>\n",
       "      <td>...</td>\n",
       "    </tr>\n",
       "    <tr>\n",
       "      <th>1013</th>\n",
       "      <td>1077</td>\n",
       "      <td>...</td>\n",
       "    </tr>\n",
       "    <tr>\n",
       "      <th>1014</th>\n",
       "      <td>1112</td>\n",
       "      <td>...</td>\n",
       "    </tr>\n",
       "  </tbody>\n",
       "</table>\n",
       "</div>"
      ],
      "text/plain": [
       "      episode                                             script\n",
       "1010     1074                                                ...\n",
       "1011     1075                                                ...\n",
       "1012     1076                                                ...\n",
       "1013     1077                                                ...\n",
       "1014     1112                                                ..."
      ]
     },
     "execution_count": 153,
     "metadata": {},
     "output_type": "execute_result"
    }
   ],
   "source": [
    "df.tail()"
   ]
  },
  {
   "cell_type": "markdown",
   "metadata": {},
   "source": [
    "\n",
    "dividing senetence so that it can fit in nlp token maximum this is done using sent_tokenize()\n"
   ]
  },
  {
   "cell_type": "code",
   "execution_count": 154,
   "metadata": {},
   "outputs": [],
   "source": [
    "script = df.iloc[0]['script']\n",
    "script_sentences = sent_tokenize(script)\n",
    "script_sentences[:3]\n",
    "# Batch Sentence\n",
    "sentence_batch_size=20\n",
    "script_batches = []\n",
    "for index in range(0,len(script_sentences),sentence_batch_size):\n",
    "    sent = \" \".join(script_sentences[index:index+sentence_batch_size])\n",
    "    script_batches.append(sent)"
   ]
  },
  {
   "cell_type": "code",
   "execution_count": 155,
   "metadata": {},
   "outputs": [
    {
     "data": {
      "text/plain": [
       "['Gold Roger, the King of the Pirates,\\n attained everything this world has to offer. The words he uttered just before his death drove people to the seas. My treasure? If you want it, you can have it! Find it! I left everything this world has to offer there! And so men head for the Grand Line in pursuit of their dreams! The world has truly entered a Great Pirate Era! We\\'re going to gather up all our dreams\\n and set out in search of something to find\\n ONE PIECE! Compasses only cause delays\\n Delirious with fever, I take the helm\\n If the dusty treasure map has been verified, it\\'s not a legend! When it comes to personal storms,\\n simply ride aboard someone else\\'s biorhythm\\n and pretend it isn\\'t there! We\\'re going to gather up all our dreams\\n and set out in search of something to find\\n A coin in my pocket, and do you wanna be my friend? We are, We are on the cruise! We are! Whoa...\\n \"I\\'m Luffy! The Man Who\\'s Gonna be King of the Pirates!\" No worries! A whirlpool of that size poses no problem to this ship! Miss. May I have this dance?',\n",
       " \"Alright! Not again...\\n Batter out! What're you doing? You suck! This thing's heavy! Must be filled with booze, then! It's all ours now! Ship off the starboard stern! There's a pirate flag on its mast! It's a pirate ship! Enemy raid! Enemy raid! Captain! Pirates! What?! Everyone, stay calm! Stay calm! Follow instructions in a calm manner! Fire! Coby!\"]"
      ]
     },
     "execution_count": 155,
     "metadata": {},
     "output_type": "execute_result"
    }
   ],
   "source": [
    "script_batches[:2]\n"
   ]
  },
  {
   "cell_type": "code",
   "execution_count": 156,
   "metadata": {},
   "outputs": [],
   "source": [
    "theme_output = theme_classifier(\n",
    "    script_batches[:2],\n",
    "    theme_list,\n",
    "    multi_label=True\n",
    ")"
   ]
  },
  {
   "cell_type": "code",
   "execution_count": 157,
   "metadata": {},
   "outputs": [
    {
     "data": {
      "text/plain": [
       "[{'sequence': 'Gold Roger, the King of the Pirates,\\n attained everything this world has to offer. The words he uttered just before his death drove people to the seas. My treasure? If you want it, you can have it! Find it! I left everything this world has to offer there! And so men head for the Grand Line in pursuit of their dreams! The world has truly entered a Great Pirate Era! We\\'re going to gather up all our dreams\\n and set out in search of something to find\\n ONE PIECE! Compasses only cause delays\\n Delirious with fever, I take the helm\\n If the dusty treasure map has been verified, it\\'s not a legend! When it comes to personal storms,\\n simply ride aboard someone else\\'s biorhythm\\n and pretend it isn\\'t there! We\\'re going to gather up all our dreams\\n and set out in search of something to find\\n A coin in my pocket, and do you wanna be my friend? We are, We are on the cruise! We are! Whoa...\\n \"I\\'m Luffy! The Man Who\\'s Gonna be King of the Pirates!\" No worries! A whirlpool of that size poses no problem to this ship! Miss. May I have this dance?',\n",
       "  'labels': ['Dreams',\n",
       "   'Adventure',\n",
       "   'Exploration',\n",
       "   'Friendship',\n",
       "   'Ambition',\n",
       "   'Rivalry',\n",
       "   'Heroism',\n",
       "   'Survival',\n",
       "   'Determination',\n",
       "   'Courage',\n",
       "   'Loyalty',\n",
       "   'Freedom',\n",
       "   'Justice',\n",
       "   'Redemption',\n",
       "   'Betrayal',\n",
       "   'Unity',\n",
       "   'Perseverance',\n",
       "   'Sacrifice',\n",
       "   'Family',\n",
       "   'Hope'],\n",
       "  'scores': [0.9521393179893494,\n",
       "   0.939342200756073,\n",
       "   0.9052640199661255,\n",
       "   0.8926178812980652,\n",
       "   0.8393780589103699,\n",
       "   0.80906081199646,\n",
       "   0.7603300213813782,\n",
       "   0.6983299255371094,\n",
       "   0.613568127155304,\n",
       "   0.5344071388244629,\n",
       "   0.48457276821136475,\n",
       "   0.462166428565979,\n",
       "   0.4426850378513336,\n",
       "   0.4248974621295929,\n",
       "   0.41320037841796875,\n",
       "   0.39950650930404663,\n",
       "   0.3285907208919525,\n",
       "   0.30506637692451477,\n",
       "   0.22990721464157104,\n",
       "   0.15298783779144287]},\n",
       " {'sequence': \"Alright! Not again...\\n Batter out! What're you doing? You suck! This thing's heavy! Must be filled with booze, then! It's all ours now! Ship off the starboard stern! There's a pirate flag on its mast! It's a pirate ship! Enemy raid! Enemy raid! Captain! Pirates! What?! Everyone, stay calm! Stay calm! Follow instructions in a calm manner! Fire! Coby!\",\n",
       "  'labels': ['Rivalry',\n",
       "   'Betrayal',\n",
       "   'Survival',\n",
       "   'Adventure',\n",
       "   'Exploration',\n",
       "   'Perseverance',\n",
       "   'Ambition',\n",
       "   'Justice',\n",
       "   'Redemption',\n",
       "   'Heroism',\n",
       "   'Determination',\n",
       "   'Courage',\n",
       "   'Unity',\n",
       "   'Freedom',\n",
       "   'Sacrifice',\n",
       "   'Family',\n",
       "   'Loyalty',\n",
       "   'Dreams',\n",
       "   'Hope',\n",
       "   'Friendship'],\n",
       "  'scores': [0.8185858726501465,\n",
       "   0.7901870012283325,\n",
       "   0.7580723762512207,\n",
       "   0.7377094030380249,\n",
       "   0.5406605005264282,\n",
       "   0.4204483926296234,\n",
       "   0.21750834584236145,\n",
       "   0.1849069595336914,\n",
       "   0.1736619621515274,\n",
       "   0.15799298882484436,\n",
       "   0.1460622102022171,\n",
       "   0.14294184744358063,\n",
       "   0.1398070752620697,\n",
       "   0.11934944987297058,\n",
       "   0.11621630191802979,\n",
       "   0.07103264331817627,\n",
       "   0.06962651014328003,\n",
       "   0.0443044938147068,\n",
       "   0.013372956775128841,\n",
       "   0.002278859494253993]}]"
      ]
     },
     "execution_count": 157,
     "metadata": {},
     "output_type": "execute_result"
    }
   ],
   "source": [
    "theme_output\n"
   ]
  },
  {
   "cell_type": "code",
   "execution_count": 158,
   "metadata": {},
   "outputs": [],
   "source": [
    "themes = {}\n",
    "for output in theme_output:\n",
    "    for label,score in zip(output['labels'],output['scores']):\n",
    "        if label not in themes:\n",
    "            themes[label] = []\n",
    "        themes[label].append(score)\n",
    "\n",
    "themes = {key: np.mean(np.array(value)) for key,value in themes.items()}\n"
   ]
  },
  {
   "cell_type": "code",
   "execution_count": 159,
   "metadata": {},
   "outputs": [
    {
     "data": {
      "text/plain": [
       "{'Adventure': 0.838525801897049,\n",
       " 'Rivalry': 0.8138233423233032,\n",
       " 'Survival': 0.728201150894165,\n",
       " 'Exploration': 0.7229622602462769,\n",
       " 'Betrayal': 0.6016936898231506,\n",
       " 'Ambition': 0.5284432023763657,\n",
       " 'Dreams': 0.4982219059020281,\n",
       " 'Heroism': 0.45916150510311127,\n",
       " 'Friendship': 0.4474483703961596,\n",
       " 'Determination': 0.37981516867876053,\n",
       " 'Perseverance': 0.37451955676078796,\n",
       " 'Courage': 0.33867449313402176,\n",
       " 'Justice': 0.3137959986925125,\n",
       " 'Redemption': 0.29927971214056015,\n",
       " 'Freedom': 0.2907579392194748,\n",
       " 'Loyalty': 0.2770996391773224,\n",
       " 'Unity': 0.26965679228305817,\n",
       " 'Sacrifice': 0.21064133942127228,\n",
       " 'Family': 0.15046992897987366,\n",
       " 'Hope': 0.08318039728328586}"
      ]
     },
     "execution_count": 159,
     "metadata": {},
     "output_type": "execute_result"
    }
   ],
   "source": [
    "dict(sorted(themes.items(), key=lambda item: item[1],reverse=True))"
   ]
  },
  {
   "cell_type": "code",
   "execution_count": 160,
   "metadata": {},
   "outputs": [],
   "source": [
    "def get_themes_inference(script):\n",
    "    script_sentences = sent_tokenize(script)\n",
    "\n",
    "    #Batch Sentence \n",
    "    sentence_batch_size=20\n",
    "    script_batches = []\n",
    "    for index in range(0,len(script_sentences),sentence_batch_size):\n",
    "        sent = \" \".join(script_sentences[index:index+sentence_batch_size])\n",
    "        script_batches.append(sent)\n",
    "    #Run Model \n",
    "    theme_output = theme_classifier(\n",
    "    script_batches[:2],\n",
    "    theme_list,\n",
    "    multi_label=True\n",
    "    )\n",
    "    # Wrangle Output \n",
    "    themes = {}\n",
    "    for output in theme_output:\n",
    "        for label,score in zip(output['labels'],output['scores']):\n",
    "            if label not in themes:\n",
    "                themes[label] = []\n",
    "            themes[label].append(score)\n",
    "\n",
    "    themes = {key: np.mean(np.array(value)) for key,value in themes.items()}\n",
    "\n",
    "    return themes\n",
    "\n",
    "\n",
    "    "
   ]
  },
  {
   "cell_type": "code",
   "execution_count": 161,
   "metadata": {},
   "outputs": [
    {
     "data": {
      "text/html": [
       "<div>\n",
       "<style scoped>\n",
       "    .dataframe tbody tr th:only-of-type {\n",
       "        vertical-align: middle;\n",
       "    }\n",
       "\n",
       "    .dataframe tbody tr th {\n",
       "        vertical-align: top;\n",
       "    }\n",
       "\n",
       "    .dataframe thead th {\n",
       "        text-align: right;\n",
       "    }\n",
       "</style>\n",
       "<table border=\"1\" class=\"dataframe\">\n",
       "  <thead>\n",
       "    <tr style=\"text-align: right;\">\n",
       "      <th></th>\n",
       "      <th>episode</th>\n",
       "      <th>script</th>\n",
       "    </tr>\n",
       "  </thead>\n",
       "  <tbody>\n",
       "    <tr>\n",
       "      <th>0</th>\n",
       "      <td>1</td>\n",
       "      <td>Gold Roger, the King of the Pirates,\\n attaine...</td>\n",
       "    </tr>\n",
       "    <tr>\n",
       "      <th>1</th>\n",
       "      <td>2</td>\n",
       "      <td>Gold Roger, the King of the Pirates,\\n attaine...</td>\n",
       "    </tr>\n",
       "    <tr>\n",
       "      <th>2</th>\n",
       "      <td>3</td>\n",
       "      <td>Gold Roger, the King of the Pirates,\\n attaine...</td>\n",
       "    </tr>\n",
       "  </tbody>\n",
       "</table>\n",
       "</div>"
      ],
      "text/plain": [
       "   episode                                             script\n",
       "0        1  Gold Roger, the King of the Pirates,\\n attaine...\n",
       "1        2  Gold Roger, the King of the Pirates,\\n attaine...\n",
       "2        3  Gold Roger, the King of the Pirates,\\n attaine..."
      ]
     },
     "execution_count": 161,
     "metadata": {},
     "output_type": "execute_result"
    }
   ],
   "source": [
    "df1 = df.head(3)\n",
    "df1"
   ]
  },
  {
   "cell_type": "code",
   "execution_count": 162,
   "metadata": {},
   "outputs": [
    {
     "data": {
      "text/plain": [
       "'Gold Roger, the King of the Pirates,\\n attained everything this world has to offer.\\n The words he uttered just before his death drove people to the seas.\\n My treasure? If you want it, you can have it!\\n Find it! I left everything this world has to offer there!\\n And so men head for the Grand Line in pursuit of their dreams!\\n The world has truly entered a Great Pirate Era!\\n We\\'re going to gather up all our dreams\\n and set out in search of something to find\\n ONE PIECE!\\n Compasses only cause delays\\n Delirious with fever, I take the helm\\n If the dusty treasure map has been verified, it\\'s not a legend!\\n When it comes to personal storms,\\n simply ride aboard someone else\\'s biorhythm\\n and pretend it isn\\'t there!\\n We\\'re going to gather up all our dreams\\n and set out in search of something to find\\n A coin in my pocket, and do you wanna be my friend?\\n We are, We are on the cruise!\\n We are!\\n Whoa...\\n \"I\\'m Luffy! The Man Who\\'s Gonna be King of the Pirates!\"\\n No worries!\\n A whirlpool of that size poses no problem to this ship!\\n Miss.\\n May I have this dance?\\n Alright!\\n Not again...\\n Batter out!\\n What\\'re you doing? You suck!\\n This thing\\'s heavy!\\n Must be filled with booze, then!\\n It\\'s all ours now!\\n Ship off the starboard stern!\\n There\\'s a pirate flag on its mast!\\n It\\'s a pirate ship! Enemy raid! Enemy raid!\\n Captain! Pirates!\\n What?!\\n Everyone, stay calm!\\n Stay calm!\\n Follow instructions in a calm manner!\\n Fire!\\n Coby!\\n Y-Yes, ma\\'am?!\\n Who\\'s the most beautiful of all on these seas?\\n T-This ship\\'s captain, Alvida-sama, of course!\\n Well done!\\n T-Thank you!\\n Alvida-sama. This is our first prey in a while.\\n That\\'s right!\\n Alright! Start pounding the ship!\\n Men! Show them the terror of Iron Club Alvida, the woman pirate!\\n Coby! What\\'re you doing?!\\n I-I\\'m not good at this sort of thing...\\n Hmm?! Are you tryin\\' to give me backtalk?!\\n P-Please, anything but the club!\\n Then get yer ass in gear!\\n We won\\'t take yer lives, but we will take all yer valuables!\\n Anyone who tries to fight back\\'ll wind up at the bottom of the ocean!\\n Hello...\\n There\\'s no one in here, right?\\n What a relief...\\n That\\'s a rather large barrel...\\n Who\\'re you?! Never seen you before!\\n Hey, coward!\\n Are you hidin\\' out in a place like this again?!\\n N-No! I thought I\\'d haul this big barrel of alcohol over...\\n We\\'ll lighten it for ya!\\n I was just feelin\\' thirsty!\\n You can\\'t! Alvida-sama will kill us if she finds out!\\n Then you just need to keep yer mouth shut!\\n Right, Coby?\\n Y-Yes! You\\'re right!\\n Thing\\'s pretty heavy!\\n Can\\'t wait!\\n Hold yer horses! I\\'ll bust it right open!\\n I slept great!\\n Huh?\\n Who\\'re you guys?\\n No, who are you?!\\n That guy\\'s gonna catch cold if he sleeps there, y\\'know.\\n You did that!\\n Are you toyin\\' with us even when you know we\\'re pirates?!\\n Man, I\\'m hungry! You got any food?\\n Listen when people are talking!\\n You damn kid!\\n Die!\\n What\\'s the big idea?\\n W-Who are you?!\\n Me?\\n I\\'m Monkey D. Luffy. Nice to meetcha!\\n What the... What just happened?\\n What\\'s with them?\\n R-Run, hurry! If they come back with their friends, you\\'ll be killed!\\n But man, I sure am hungry!\\n How can you be so carefree?!\\n There are still lots more of them up on deck!\\n C\\'mon! This way!\\n H-H-Hey! Not this way!\\n Food! Food! Food! Yes! Food!\\n Actually, they might not find us in here!\\n Which should I choose? This box? Ooh, jackpot!\\n These look great!\\n M-My name is Coby. You\\'re Luffy-san, right?\\n That was incredible just now! How did you do that?!\\n These things are great!\\n Is this a pirate ship?\\n No, it\\'s a passenger ship that\\'s being raided by Alvida-sama.\\n Well, it doesn\\'t matter.\\n Do you know if there are any boats onboard?\\n I-I think so...\\n My ship got swallowed by this giant whirlpool...\\n You mean that whirlpool?! No one could survive that!\\n Boy, was that a real surprise!\\n Are you one of those pirates, too?\\n It was on that fateful day...\\n That day, I got in a boat on the outskirts of town to go fishing...\\n ...but it turned out the boat was actually headed for a pirate ship.\\n It\\'s been two years since...\\n In exchange for my life, I\\'ve been forced to be a chore boy.\\n Man, you\\'re dumb and stupid!\\n You\\'re brutally honest...\\n If you don\\'t like it, then run away!\\n I-I can\\'t! No way! No way!\\n Just the thought of Alvida-sama finding me...\\n ...frightens me and makes me weak in the knees--\\n Oh, you\\'re a wimp, too?\\n Man, I hate you!\\n Hey, now! Quit dawdling!\\n Haul it all off before the navy gets here!\\n Anyone caught dawdling gets a taste of my iron club!\\n --What a haul! --Seems like a pretty rich ship!\\n Hey! You\\'ll get the club if she catches you slackin\\' off!\\n Oh, whoops!\\n Yeah, one hit from that and you\\'re a goner!\\n Alvida-sama!\\n It\\'s bad!\\n What is it?! You\\'re annoying me!\\n A b-b-barrel!\\n M-M-Monster!\\n Huh?!\\n Who\\'re you calling a monster?!\\n N-No... Some weird guy popped out of a barrel...\\n He might be... a bounty hunter...\\n What?!\\n Yeah... That\\'s right...\\n If only I had the courage to drift the ocean in a barrel...\\n ...there\\'s actually something I want to do, too...\\n Umm... What compelled you to set out onto the sea, Luffy-san?\\n I\\'m gonna be the King of the Pirates!\\n --K-K-King of the Pirates?! --Yep.\\n --Are you serious?! --Yeah.\\n Wait, you\\'re a pirate, Luffy-san?!\\n Yep.\\n What about your crew?!\\n Don\\'t got one. I\\'m just about to look for one.\\n K-K-King of the Pirates is the title given to the person...\\n ...who obtains everything in this world!\\n That means seeking the great treasure of wealth, fame, and power...\\n ...the One Piece!\\n Yup!\\n Yup?! Pirates all over the world are after that treasure!\\n Me too!\\n No way! No way, no way, no way! Absolutely no way!\\n There\\'s no way you can stand at the apex of this Great Pirate Era!\\n No way! No way!\\n Why did you hit me?\\n Just because.\\n But it\\'s all right. I\\'m used to it now...\\n It\\'s not about whether I can or not.\\n I\\'m gonna do it because I want to.\\n I\\'ve decided to be the King of the Pirates,\\n so if I die fighting for that, that\\'s fine with me!\\n Now, then! My belly\\'s full-- guess I\\'ll go get me a boat!\\n I wonder if they\\'ll give me one if I ask.\\n Hopefully they\\'re generous.\\n I never once thought about it...\\n Do you suppose I can do it, too?\\n If I\\'m prepared to die for it?\\n Do what?\\n Do you think... even I could join the navy?\\n Navy?\\n Yes! Catching bad guys is my dream!\\n It\\'s been my dream ever since I was little! Do you think I can do it?!\\n How should I know?\\n No! I\\'ll do it! If I\\'m gonna be a chore boy for the rest of my life,\\n then I\\'ll break out of here and catch even Alvida-sama-- no, Alvida!\\n You\\'re gonna team up with him to catch who?!\\n Huh, Coby?!\\n You don\\'t seem to be Zoro, the pirate hunter.\\n Zoro?\\n Coby!\\n Who\\'s the most beautiful of all on these seas?!\\n O-Of course that would be--\\n Who\\'s this big chunky lady?\\n --Chunky? --Not good...\\n You runt!\\n Let\\'s go!\\n Why, you...\\n Whoops!\\n It\\'s not fair to attack from behind!\\n It\\'s not fair to attack all at once!\\n Gotcha!\\n Gum-Gum...\\n ...Rocket!\\n What?!\\n L-Luffy-san... What are you?\\n Me?\\n I\\'m a rubber person!\\n A rubber person? You can\\'t be serious!\\n You\\'ve eaten a Devil\\'s Fruit, haven\\'t you?\\n Yeah! The Gum-Gum Fruit!\\n I see! I\\'d heard the rumors, but I guess they really do exist!\\n You also seem pretty skilled. You a bounty hunter?\\n I\\'m a pirate!\\n A pirate?! Hah! All by yourself?!\\n It\\'s just me right now, but I\\'ll find some more sooner or later!\\n Yeah... Ten crewmen sounds good to me!\\n Ah, so you\\'re a pirate too, huh?!\\n Then that means you and me are enemies, huh?\\n --L-Luffy-san! Let\\'s get out of here! --Why?\\n You saw how powerful her club is!\\n In these waters, she\\'s the most--\\n I\\'ve decided to be the King of the Pirates,\\n so if I die fighting for that, that\\'s fine with me!\\n I\\'m the most what?!\\n T-T-The...\\n The most ugly, cragged old hag ever!\\n What did you say?!\\n I... I\\'m going to join the navy!\\n And then I\\'m gonna beat up pirates!\\n Do you even know what you\\'re saying?!\\n I do! I\\'m gonna do what I want to do!\\n I\\'m gonna... I\\'m gonna join the navy...\\n ...and catch your lousy ass!\\n You damn pipsqueak!\\n No regrets! No regrets! I said it! I fought! For my dream!\\n Well said!\\n That doesn\\'t work!\\n What?!\\n \\'Cause I\\'m rubber!\\n Gum-Gum...\\n ...Pistol!\\n The sky is so blue...\\n Hey!\\n --Yes?! --Yes?!\\n Give Coby a small boat!\\n He\\'s gonna join the navy! Keep your mouths shut and let him go!\\n --R-Right! --R-Right!\\n Luffy-san!\\n It\\'s the navy!\\n Oh, perfect timing! You should go see \\'em!\\n But I\\'m a pirate! I\\'m outta here!\\n Get serious!\\n I can\\'t just join the navy like this!\\n I\\'ll be captured instead!\\n Looks like we managed to get away...\\n Whew, that was fun!\\n Umm, Luffy-san.\\n If you\\'re heading for the One Piece,\\n --that means you\\'re going to the Grand Line, right? --Yeah.\\n That place is also referred to as a pirate graveyard, you know.\\n Yeah. That\\'s why I need a strong crew.\\n What about that pirate hunter guy? What\\'s he like?\\n You mean Zoro? I heard he\\'s being held prisoner at a navy base.\\n Aw, he\\'s a weakling?\\n Nothing of the sort! He\\'s as terrifying as a demon!\\n Why are you asking about him?\\n Thought I might have him join my crew if he\\'s a good guy!\\n You\\'re being reckless again!\\n C\\'mon, he might be a good guy!\\n He\\'s been caught because he\\'s a bad guy!\\n No! No way, no way, no way! Absolutely no--\\n Why did you hit me?\\n Just because!\\n \"To be continued\"\\n When I was little, I had a vision of a treasure map\\n and I always searched for that miraculous place\\n before someone else could beat me to it\\n If the world is going to change\\n before I can even attain my dream\\n then take me to the time when I knew nothing\\n so that my memories won\\'t fade\\n Hey! I\\'ll untie your ropes, so join my crew!\\n I refuse to team up with a pirate!\\n Oh, come on. You\\'re already known as an evil bounty hunter.\\n Screw that! I ain\\'t done a single thing I regret! And I never will!\\n So I ain\\'t gonna be a pirate!\\n I\\'ve decided you\\'re gonna join me!\\n Quit deciding on your own!\\n On the next episode of One Piece!\\n \"Enter the Great Swordsman! Pirate Hunter Roronoa Zoro\"\\n I\\'m gonna be King of the Pirates!\\n'"
      ]
     },
     "execution_count": 162,
     "metadata": {},
     "output_type": "execute_result"
    }
   ],
   "source": [
    "df1.script[0]"
   ]
  },
  {
   "cell_type": "code",
   "execution_count": 163,
   "metadata": {},
   "outputs": [],
   "source": [
    "output_themes = df1['script'].apply(get_themes_inference)"
   ]
  },
  {
   "cell_type": "code",
   "execution_count": 164,
   "metadata": {},
   "outputs": [],
   "source": [
    "theme_df = pd.DataFrame(output_themes.tolist())\n"
   ]
  },
  {
   "cell_type": "code",
   "execution_count": 165,
   "metadata": {},
   "outputs": [
    {
     "data": {
      "text/html": [
       "<div>\n",
       "<style scoped>\n",
       "    .dataframe tbody tr th:only-of-type {\n",
       "        vertical-align: middle;\n",
       "    }\n",
       "\n",
       "    .dataframe tbody tr th {\n",
       "        vertical-align: top;\n",
       "    }\n",
       "\n",
       "    .dataframe thead th {\n",
       "        text-align: right;\n",
       "    }\n",
       "</style>\n",
       "<table border=\"1\" class=\"dataframe\">\n",
       "  <thead>\n",
       "    <tr style=\"text-align: right;\">\n",
       "      <th></th>\n",
       "      <th>Dreams</th>\n",
       "      <th>Adventure</th>\n",
       "      <th>Exploration</th>\n",
       "      <th>Friendship</th>\n",
       "      <th>Ambition</th>\n",
       "      <th>Rivalry</th>\n",
       "      <th>Heroism</th>\n",
       "      <th>Survival</th>\n",
       "      <th>Determination</th>\n",
       "      <th>Courage</th>\n",
       "      <th>Loyalty</th>\n",
       "      <th>Freedom</th>\n",
       "      <th>Justice</th>\n",
       "      <th>Redemption</th>\n",
       "      <th>Betrayal</th>\n",
       "      <th>Unity</th>\n",
       "      <th>Perseverance</th>\n",
       "      <th>Sacrifice</th>\n",
       "      <th>Family</th>\n",
       "      <th>Hope</th>\n",
       "    </tr>\n",
       "  </thead>\n",
       "  <tbody>\n",
       "    <tr>\n",
       "      <th>0</th>\n",
       "      <td>0.498222</td>\n",
       "      <td>0.838526</td>\n",
       "      <td>0.722962</td>\n",
       "      <td>0.447448</td>\n",
       "      <td>0.528443</td>\n",
       "      <td>0.813823</td>\n",
       "      <td>0.459162</td>\n",
       "      <td>0.728201</td>\n",
       "      <td>0.379815</td>\n",
       "      <td>0.338674</td>\n",
       "      <td>0.277100</td>\n",
       "      <td>0.290758</td>\n",
       "      <td>0.313796</td>\n",
       "      <td>0.299280</td>\n",
       "      <td>0.601694</td>\n",
       "      <td>0.269657</td>\n",
       "      <td>0.374520</td>\n",
       "      <td>0.210641</td>\n",
       "      <td>0.150470</td>\n",
       "      <td>0.083180</td>\n",
       "    </tr>\n",
       "    <tr>\n",
       "      <th>1</th>\n",
       "      <td>0.530880</td>\n",
       "      <td>0.854885</td>\n",
       "      <td>0.699547</td>\n",
       "      <td>0.633825</td>\n",
       "      <td>0.607927</td>\n",
       "      <td>0.594232</td>\n",
       "      <td>0.525002</td>\n",
       "      <td>0.713001</td>\n",
       "      <td>0.484291</td>\n",
       "      <td>0.485585</td>\n",
       "      <td>0.298067</td>\n",
       "      <td>0.449086</td>\n",
       "      <td>0.476706</td>\n",
       "      <td>0.446018</td>\n",
       "      <td>0.373021</td>\n",
       "      <td>0.410017</td>\n",
       "      <td>0.427833</td>\n",
       "      <td>0.393756</td>\n",
       "      <td>0.287565</td>\n",
       "      <td>0.214348</td>\n",
       "    </tr>\n",
       "    <tr>\n",
       "      <th>2</th>\n",
       "      <td>0.499065</td>\n",
       "      <td>0.673469</td>\n",
       "      <td>0.602411</td>\n",
       "      <td>0.424214</td>\n",
       "      <td>0.645272</td>\n",
       "      <td>0.839882</td>\n",
       "      <td>0.480221</td>\n",
       "      <td>0.545932</td>\n",
       "      <td>0.393997</td>\n",
       "      <td>0.375692</td>\n",
       "      <td>0.219863</td>\n",
       "      <td>0.295814</td>\n",
       "      <td>0.257063</td>\n",
       "      <td>0.285671</td>\n",
       "      <td>0.421734</td>\n",
       "      <td>0.160776</td>\n",
       "      <td>0.280584</td>\n",
       "      <td>0.292326</td>\n",
       "      <td>0.141256</td>\n",
       "      <td>0.068983</td>\n",
       "    </tr>\n",
       "  </tbody>\n",
       "</table>\n",
       "</div>"
      ],
      "text/plain": [
       "     Dreams  Adventure  Exploration  Friendship  Ambition   Rivalry   Heroism  \\\n",
       "0  0.498222   0.838526     0.722962    0.447448  0.528443  0.813823  0.459162   \n",
       "1  0.530880   0.854885     0.699547    0.633825  0.607927  0.594232  0.525002   \n",
       "2  0.499065   0.673469     0.602411    0.424214  0.645272  0.839882  0.480221   \n",
       "\n",
       "   Survival  Determination   Courage   Loyalty   Freedom   Justice  \\\n",
       "0  0.728201       0.379815  0.338674  0.277100  0.290758  0.313796   \n",
       "1  0.713001       0.484291  0.485585  0.298067  0.449086  0.476706   \n",
       "2  0.545932       0.393997  0.375692  0.219863  0.295814  0.257063   \n",
       "\n",
       "   Redemption  Betrayal     Unity  Perseverance  Sacrifice    Family      Hope  \n",
       "0    0.299280  0.601694  0.269657      0.374520   0.210641  0.150470  0.083180  \n",
       "1    0.446018  0.373021  0.410017      0.427833   0.393756  0.287565  0.214348  \n",
       "2    0.285671  0.421734  0.160776      0.280584   0.292326  0.141256  0.068983  "
      ]
     },
     "execution_count": 165,
     "metadata": {},
     "output_type": "execute_result"
    }
   ],
   "source": [
    "theme_df"
   ]
  },
  {
   "cell_type": "code",
   "execution_count": 166,
   "metadata": {},
   "outputs": [
    {
     "name": "stderr",
     "output_type": "stream",
     "text": [
      "C:\\Users\\salvi\\AppData\\Local\\Temp\\ipykernel_24656\\1777267100.py:1: SettingWithCopyWarning: \n",
      "A value is trying to be set on a copy of a slice from a DataFrame.\n",
      "Try using .loc[row_indexer,col_indexer] = value instead\n",
      "\n",
      "See the caveats in the documentation: https://pandas.pydata.org/pandas-docs/stable/user_guide/indexing.html#returning-a-view-versus-a-copy\n",
      "  df1[theme_df.columns] = theme_df\n",
      "C:\\Users\\salvi\\AppData\\Local\\Temp\\ipykernel_24656\\1777267100.py:1: SettingWithCopyWarning: \n",
      "A value is trying to be set on a copy of a slice from a DataFrame.\n",
      "Try using .loc[row_indexer,col_indexer] = value instead\n",
      "\n",
      "See the caveats in the documentation: https://pandas.pydata.org/pandas-docs/stable/user_guide/indexing.html#returning-a-view-versus-a-copy\n",
      "  df1[theme_df.columns] = theme_df\n",
      "C:\\Users\\salvi\\AppData\\Local\\Temp\\ipykernel_24656\\1777267100.py:1: SettingWithCopyWarning: \n",
      "A value is trying to be set on a copy of a slice from a DataFrame.\n",
      "Try using .loc[row_indexer,col_indexer] = value instead\n",
      "\n",
      "See the caveats in the documentation: https://pandas.pydata.org/pandas-docs/stable/user_guide/indexing.html#returning-a-view-versus-a-copy\n",
      "  df1[theme_df.columns] = theme_df\n",
      "C:\\Users\\salvi\\AppData\\Local\\Temp\\ipykernel_24656\\1777267100.py:1: SettingWithCopyWarning: \n",
      "A value is trying to be set on a copy of a slice from a DataFrame.\n",
      "Try using .loc[row_indexer,col_indexer] = value instead\n",
      "\n",
      "See the caveats in the documentation: https://pandas.pydata.org/pandas-docs/stable/user_guide/indexing.html#returning-a-view-versus-a-copy\n",
      "  df1[theme_df.columns] = theme_df\n",
      "C:\\Users\\salvi\\AppData\\Local\\Temp\\ipykernel_24656\\1777267100.py:1: SettingWithCopyWarning: \n",
      "A value is trying to be set on a copy of a slice from a DataFrame.\n",
      "Try using .loc[row_indexer,col_indexer] = value instead\n",
      "\n",
      "See the caveats in the documentation: https://pandas.pydata.org/pandas-docs/stable/user_guide/indexing.html#returning-a-view-versus-a-copy\n",
      "  df1[theme_df.columns] = theme_df\n",
      "C:\\Users\\salvi\\AppData\\Local\\Temp\\ipykernel_24656\\1777267100.py:1: SettingWithCopyWarning: \n",
      "A value is trying to be set on a copy of a slice from a DataFrame.\n",
      "Try using .loc[row_indexer,col_indexer] = value instead\n",
      "\n",
      "See the caveats in the documentation: https://pandas.pydata.org/pandas-docs/stable/user_guide/indexing.html#returning-a-view-versus-a-copy\n",
      "  df1[theme_df.columns] = theme_df\n",
      "C:\\Users\\salvi\\AppData\\Local\\Temp\\ipykernel_24656\\1777267100.py:1: SettingWithCopyWarning: \n",
      "A value is trying to be set on a copy of a slice from a DataFrame.\n",
      "Try using .loc[row_indexer,col_indexer] = value instead\n",
      "\n",
      "See the caveats in the documentation: https://pandas.pydata.org/pandas-docs/stable/user_guide/indexing.html#returning-a-view-versus-a-copy\n",
      "  df1[theme_df.columns] = theme_df\n",
      "C:\\Users\\salvi\\AppData\\Local\\Temp\\ipykernel_24656\\1777267100.py:1: SettingWithCopyWarning: \n",
      "A value is trying to be set on a copy of a slice from a DataFrame.\n",
      "Try using .loc[row_indexer,col_indexer] = value instead\n",
      "\n",
      "See the caveats in the documentation: https://pandas.pydata.org/pandas-docs/stable/user_guide/indexing.html#returning-a-view-versus-a-copy\n",
      "  df1[theme_df.columns] = theme_df\n",
      "C:\\Users\\salvi\\AppData\\Local\\Temp\\ipykernel_24656\\1777267100.py:1: SettingWithCopyWarning: \n",
      "A value is trying to be set on a copy of a slice from a DataFrame.\n",
      "Try using .loc[row_indexer,col_indexer] = value instead\n",
      "\n",
      "See the caveats in the documentation: https://pandas.pydata.org/pandas-docs/stable/user_guide/indexing.html#returning-a-view-versus-a-copy\n",
      "  df1[theme_df.columns] = theme_df\n",
      "C:\\Users\\salvi\\AppData\\Local\\Temp\\ipykernel_24656\\1777267100.py:1: SettingWithCopyWarning: \n",
      "A value is trying to be set on a copy of a slice from a DataFrame.\n",
      "Try using .loc[row_indexer,col_indexer] = value instead\n",
      "\n",
      "See the caveats in the documentation: https://pandas.pydata.org/pandas-docs/stable/user_guide/indexing.html#returning-a-view-versus-a-copy\n",
      "  df1[theme_df.columns] = theme_df\n",
      "C:\\Users\\salvi\\AppData\\Local\\Temp\\ipykernel_24656\\1777267100.py:1: SettingWithCopyWarning: \n",
      "A value is trying to be set on a copy of a slice from a DataFrame.\n",
      "Try using .loc[row_indexer,col_indexer] = value instead\n",
      "\n",
      "See the caveats in the documentation: https://pandas.pydata.org/pandas-docs/stable/user_guide/indexing.html#returning-a-view-versus-a-copy\n",
      "  df1[theme_df.columns] = theme_df\n",
      "C:\\Users\\salvi\\AppData\\Local\\Temp\\ipykernel_24656\\1777267100.py:1: SettingWithCopyWarning: \n",
      "A value is trying to be set on a copy of a slice from a DataFrame.\n",
      "Try using .loc[row_indexer,col_indexer] = value instead\n",
      "\n",
      "See the caveats in the documentation: https://pandas.pydata.org/pandas-docs/stable/user_guide/indexing.html#returning-a-view-versus-a-copy\n",
      "  df1[theme_df.columns] = theme_df\n",
      "C:\\Users\\salvi\\AppData\\Local\\Temp\\ipykernel_24656\\1777267100.py:1: SettingWithCopyWarning: \n",
      "A value is trying to be set on a copy of a slice from a DataFrame.\n",
      "Try using .loc[row_indexer,col_indexer] = value instead\n",
      "\n",
      "See the caveats in the documentation: https://pandas.pydata.org/pandas-docs/stable/user_guide/indexing.html#returning-a-view-versus-a-copy\n",
      "  df1[theme_df.columns] = theme_df\n",
      "C:\\Users\\salvi\\AppData\\Local\\Temp\\ipykernel_24656\\1777267100.py:1: SettingWithCopyWarning: \n",
      "A value is trying to be set on a copy of a slice from a DataFrame.\n",
      "Try using .loc[row_indexer,col_indexer] = value instead\n",
      "\n",
      "See the caveats in the documentation: https://pandas.pydata.org/pandas-docs/stable/user_guide/indexing.html#returning-a-view-versus-a-copy\n",
      "  df1[theme_df.columns] = theme_df\n",
      "C:\\Users\\salvi\\AppData\\Local\\Temp\\ipykernel_24656\\1777267100.py:1: SettingWithCopyWarning: \n",
      "A value is trying to be set on a copy of a slice from a DataFrame.\n",
      "Try using .loc[row_indexer,col_indexer] = value instead\n",
      "\n",
      "See the caveats in the documentation: https://pandas.pydata.org/pandas-docs/stable/user_guide/indexing.html#returning-a-view-versus-a-copy\n",
      "  df1[theme_df.columns] = theme_df\n",
      "C:\\Users\\salvi\\AppData\\Local\\Temp\\ipykernel_24656\\1777267100.py:1: SettingWithCopyWarning: \n",
      "A value is trying to be set on a copy of a slice from a DataFrame.\n",
      "Try using .loc[row_indexer,col_indexer] = value instead\n",
      "\n",
      "See the caveats in the documentation: https://pandas.pydata.org/pandas-docs/stable/user_guide/indexing.html#returning-a-view-versus-a-copy\n",
      "  df1[theme_df.columns] = theme_df\n",
      "C:\\Users\\salvi\\AppData\\Local\\Temp\\ipykernel_24656\\1777267100.py:1: SettingWithCopyWarning: \n",
      "A value is trying to be set on a copy of a slice from a DataFrame.\n",
      "Try using .loc[row_indexer,col_indexer] = value instead\n",
      "\n",
      "See the caveats in the documentation: https://pandas.pydata.org/pandas-docs/stable/user_guide/indexing.html#returning-a-view-versus-a-copy\n",
      "  df1[theme_df.columns] = theme_df\n",
      "C:\\Users\\salvi\\AppData\\Local\\Temp\\ipykernel_24656\\1777267100.py:1: SettingWithCopyWarning: \n",
      "A value is trying to be set on a copy of a slice from a DataFrame.\n",
      "Try using .loc[row_indexer,col_indexer] = value instead\n",
      "\n",
      "See the caveats in the documentation: https://pandas.pydata.org/pandas-docs/stable/user_guide/indexing.html#returning-a-view-versus-a-copy\n",
      "  df1[theme_df.columns] = theme_df\n",
      "C:\\Users\\salvi\\AppData\\Local\\Temp\\ipykernel_24656\\1777267100.py:1: SettingWithCopyWarning: \n",
      "A value is trying to be set on a copy of a slice from a DataFrame.\n",
      "Try using .loc[row_indexer,col_indexer] = value instead\n",
      "\n",
      "See the caveats in the documentation: https://pandas.pydata.org/pandas-docs/stable/user_guide/indexing.html#returning-a-view-versus-a-copy\n",
      "  df1[theme_df.columns] = theme_df\n",
      "C:\\Users\\salvi\\AppData\\Local\\Temp\\ipykernel_24656\\1777267100.py:1: SettingWithCopyWarning: \n",
      "A value is trying to be set on a copy of a slice from a DataFrame.\n",
      "Try using .loc[row_indexer,col_indexer] = value instead\n",
      "\n",
      "See the caveats in the documentation: https://pandas.pydata.org/pandas-docs/stable/user_guide/indexing.html#returning-a-view-versus-a-copy\n",
      "  df1[theme_df.columns] = theme_df\n"
     ]
    }
   ],
   "source": [
    "df1[theme_df.columns] = theme_df"
   ]
  },
  {
   "cell_type": "markdown",
   "metadata": {},
   "source": [
    "# Visualize Output"
   ]
  },
  {
   "cell_type": "code",
   "execution_count": 167,
   "metadata": {},
   "outputs": [
    {
     "data": {
      "text/html": [
       "<div>\n",
       "<style scoped>\n",
       "    .dataframe tbody tr th:only-of-type {\n",
       "        vertical-align: middle;\n",
       "    }\n",
       "\n",
       "    .dataframe tbody tr th {\n",
       "        vertical-align: top;\n",
       "    }\n",
       "\n",
       "    .dataframe thead th {\n",
       "        text-align: right;\n",
       "    }\n",
       "</style>\n",
       "<table border=\"1\" class=\"dataframe\">\n",
       "  <thead>\n",
       "    <tr style=\"text-align: right;\">\n",
       "      <th></th>\n",
       "      <th>theme</th>\n",
       "      <th>score</th>\n",
       "    </tr>\n",
       "  </thead>\n",
       "  <tbody>\n",
       "    <tr>\n",
       "      <th>0</th>\n",
       "      <td>Dreams</td>\n",
       "      <td>1.528167</td>\n",
       "    </tr>\n",
       "    <tr>\n",
       "      <th>1</th>\n",
       "      <td>Adventure</td>\n",
       "      <td>2.366879</td>\n",
       "    </tr>\n",
       "    <tr>\n",
       "      <th>2</th>\n",
       "      <td>Exploration</td>\n",
       "      <td>2.024920</td>\n",
       "    </tr>\n",
       "    <tr>\n",
       "      <th>3</th>\n",
       "      <td>Friendship</td>\n",
       "      <td>1.505487</td>\n",
       "    </tr>\n",
       "    <tr>\n",
       "      <th>4</th>\n",
       "      <td>Ambition</td>\n",
       "      <td>1.781642</td>\n",
       "    </tr>\n",
       "    <tr>\n",
       "      <th>5</th>\n",
       "      <td>Rivalry</td>\n",
       "      <td>2.247937</td>\n",
       "    </tr>\n",
       "    <tr>\n",
       "      <th>6</th>\n",
       "      <td>Heroism</td>\n",
       "      <td>1.464385</td>\n",
       "    </tr>\n",
       "    <tr>\n",
       "      <th>7</th>\n",
       "      <td>Survival</td>\n",
       "      <td>1.987134</td>\n",
       "    </tr>\n",
       "    <tr>\n",
       "      <th>8</th>\n",
       "      <td>Determination</td>\n",
       "      <td>1.258103</td>\n",
       "    </tr>\n",
       "    <tr>\n",
       "      <th>9</th>\n",
       "      <td>Courage</td>\n",
       "      <td>1.199952</td>\n",
       "    </tr>\n",
       "    <tr>\n",
       "      <th>10</th>\n",
       "      <td>Loyalty</td>\n",
       "      <td>0.795029</td>\n",
       "    </tr>\n",
       "    <tr>\n",
       "      <th>11</th>\n",
       "      <td>Freedom</td>\n",
       "      <td>1.035658</td>\n",
       "    </tr>\n",
       "    <tr>\n",
       "      <th>12</th>\n",
       "      <td>Justice</td>\n",
       "      <td>1.047565</td>\n",
       "    </tr>\n",
       "    <tr>\n",
       "      <th>13</th>\n",
       "      <td>Redemption</td>\n",
       "      <td>1.030969</td>\n",
       "    </tr>\n",
       "    <tr>\n",
       "      <th>14</th>\n",
       "      <td>Betrayal</td>\n",
       "      <td>1.396448</td>\n",
       "    </tr>\n",
       "    <tr>\n",
       "      <th>15</th>\n",
       "      <td>Unity</td>\n",
       "      <td>0.840450</td>\n",
       "    </tr>\n",
       "    <tr>\n",
       "      <th>16</th>\n",
       "      <td>Perseverance</td>\n",
       "      <td>1.082937</td>\n",
       "    </tr>\n",
       "    <tr>\n",
       "      <th>17</th>\n",
       "      <td>Sacrifice</td>\n",
       "      <td>0.896724</td>\n",
       "    </tr>\n",
       "    <tr>\n",
       "      <th>18</th>\n",
       "      <td>Family</td>\n",
       "      <td>0.579291</td>\n",
       "    </tr>\n",
       "    <tr>\n",
       "      <th>19</th>\n",
       "      <td>Hope</td>\n",
       "      <td>0.366511</td>\n",
       "    </tr>\n",
       "  </tbody>\n",
       "</table>\n",
       "</div>"
      ],
      "text/plain": [
       "            theme     score\n",
       "0          Dreams  1.528167\n",
       "1       Adventure  2.366879\n",
       "2     Exploration  2.024920\n",
       "3      Friendship  1.505487\n",
       "4        Ambition  1.781642\n",
       "5         Rivalry  2.247937\n",
       "6         Heroism  1.464385\n",
       "7        Survival  1.987134\n",
       "8   Determination  1.258103\n",
       "9         Courage  1.199952\n",
       "10        Loyalty  0.795029\n",
       "11        Freedom  1.035658\n",
       "12        Justice  1.047565\n",
       "13     Redemption  1.030969\n",
       "14       Betrayal  1.396448\n",
       "15          Unity  0.840450\n",
       "16   Perseverance  1.082937\n",
       "17      Sacrifice  0.896724\n",
       "18         Family  0.579291\n",
       "19           Hope  0.366511"
      ]
     },
     "execution_count": 167,
     "metadata": {},
     "output_type": "execute_result"
    }
   ],
   "source": [
    "theme_output = df1.drop(['episode','script'],axis=1).sum().reset_index()\n",
    "theme_output.columns = ['theme','score']\n",
    "theme_output"
   ]
  },
  {
   "cell_type": "code",
   "execution_count": 168,
   "metadata": {},
   "outputs": [],
   "source": [
    "import matplotlib.pyplot as plt\n",
    "import seaborn as sns"
   ]
  },
  {
   "cell_type": "code",
   "execution_count": 169,
   "metadata": {},
   "outputs": [
    {
     "data": {
      "image/png": "[encoded data removed]",
      "text/plain": [
       "<Figure size 640x480 with 1 Axes>"
      ]
     },
     "metadata": {},
     "output_type": "display_data"
    }
   ],
   "source": [
    "sns.barplot(data = theme_output ,x=\"theme\",y=\"score\" )\n",
    "plt.xticks(rotation=45)\n",
    "plt.show()"
   ]
  },
  {
   "cell_type": "code",
   "execution_count": null,
   "metadata": {},
   "outputs": [],
   "source": []
  },
  {
   "cell_type": "code",
   "execution_count": null,
   "metadata": {},
   "outputs": [],
   "source": []
  },
  {
   "cell_type": "code",
   "execution_count": null,
   "metadata": {},
   "outputs": [],
   "source": []
  }
 ],
 "metadata": {
  "kernelspec": {
   "display_name": "base",
   "language": "python",
   "name": "python3"
  },
  "language_info": {
   "codemirror_mode": {
    "name": "ipython",
    "version": 3
   },
   "file_extension": ".py",
   "mimetype": "text/x-python",
   "name": "python",
   "nbconvert_exporter": "python",
   "pygments_lexer": "ipython3",
   "version": "3.10.9"
  }
 },
 "nbformat": 4,
 "nbformat_minor": 2
}
